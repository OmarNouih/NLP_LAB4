{
 "cells": [
  {
   "cell_type": "code",
   "execution_count": 2,
   "metadata": {},
   "outputs": [],
   "source": [
    "from bs4 import BeautifulSoup\n",
    "import requests\n",
    "import warnings\n",
    "import pandas as pd\n",
    "\n",
    "warnings.filterwarnings(\"ignore\")"
   ]
  },
  {
   "cell_type": "code",
   "execution_count": 11,
   "metadata": {},
   "outputs": [],
   "source": [
    "texts = []"
   ]
  },
  {
   "cell_type": "code",
   "execution_count": 12,
   "metadata": {},
   "outputs": [],
   "source": [
    "url = \"https://www.sante.gov.ma/sites/Ar/Pages/activites.aspx\"\n",
    "response = requests.get(url, verify=False)\n",
    "soup = BeautifulSoup(response.content, \"html.parser\")\n",
    "h3_elements = soup.select(\"#ctl00_ctl42_g_5c5a1f3c_eda6_4491_a25d_453a88e05f81 h3\")\n",
    "for h3 in h3_elements:\n",
    "    texts.append(h3.text.strip())"
   ]
  },
  {
   "cell_type": "code",
   "execution_count": 13,
   "metadata": {},
   "outputs": [
    {
     "name": "stdout",
     "output_type": "stream",
     "text": [
      "['الأنشطة', 'وزير الصحة والحماية الاجتماعية يجري مباحثات مع مسؤولين عن المعهد الهندي للأمصال', 'وزير الصحة والحماية الاجتماعية يستعرض في ندوة وطنية معالم إصلاح المنظومة الصحية الوطنية بين الماضي والحاضر وتحديات المستقبل', 'تعزيز التعاون في مجال الصحة والحماية الاجتماعية محور مباحثات بين وزير الصحة والحماية الاجتماعية والمدير العام لمنظمة العمل الدولية', 'إعطاء انطلاقة خدمات 15 مؤسسة صحية مع وحدة المستعجلات الطبية على مستوى جهة العيون الساقية الحمراء', 'إعطاء انطلاقة خدمات   14 مركزا للرعاية الصحية الأولية على مستوى جهة فاس- مكناس', 'تعزيز التعاون في مجال الصحة محور مباحثات بين وزير الصحة والحماية الاجتماعية ونظيره التشيكي', 'الحملة الوطنية للتشجيع على نمط العيش السليم \"اختاروا الأفضل لصحتكم\"', 'المصادقة على أول قانون يتعلق بمزاولة مهن التمريض', 'تخليد اليوم العالمي لمحاربة داء السل', 'الاحتفال باليوم العالمي للمهاجر']\n"
     ]
    }
   ],
   "source": [
    "print(texts)"
   ]
  },
  {
   "cell_type": "code",
   "execution_count": null,
   "metadata": {},
   "outputs": [],
   "source": [
    "from selenium import webdriver\n",
    "from selenium.webdriver.common.by import By\n",
    "from selenium.webdriver.support.ui import WebDriverWait\n",
    "from selenium.webdriver.support import expected_conditions as EC\n",
    "\n",
    "driver = webdriver.Chrome()\n",
    "\n",
    "driver.get('https://www.who.int/ar/news')\n",
    "\n",
    "def extract_headings():\n",
    "    WebDriverWait(driver, 10).until(\n",
    "        EC.presence_of_all_elements_located((By.CSS_SELECTOR, 'p.heading.text-underline'))\n",
    "    )\n",
    "    headings_elements = driver.find_elements(By.CSS_SELECTOR, 'p.heading.text-underline')\n",
    "    return [heading.text for heading in headings_elements]\n",
    "\n",
    "all_headings = []\n",
    "all_headings.extend(extract_headings())\n",
    "\n",
    "def go_to_next_page():\n",
    "    next_button = WebDriverWait(driver, 10).until(\n",
    "        EC.element_to_be_clickable((By.CSS_SELECTOR, 'a[aria-label=\"Go to the next page\"]'))\n",
    "    )\n",
    "    driver.execute_script(\"arguments[0].click();\", next_button)\n",
    "\n",
    "while True:\n",
    "    try:\n",
    "        go_to_next_page()\n",
    "        WebDriverWait(driver, 10).until(\n",
    "            EC.staleness_of(driver.find_element(By.CSS_SELECTOR, 'p.heading.text-underline'))\n",
    "        )\n",
    "        new_headings = extract_headings()\n",
    "        if not new_headings:\n",
    "            break\n",
    "        all_headings.extend(new_headings)\n",
    "    except Exception as e:\n",
    "        print(f\"Exception occurred: {e}\")\n",
    "        break\n",
    "\n",
    "driver.quit()"
   ]
  },
  {
   "cell_type": "code",
   "execution_count": null,
   "metadata": {},
   "outputs": [],
   "source": [
    "data = pd.DataFrame(all_headings + texts, columns = ['Texts'])\n",
    "data.to_csv('scraping.csv', index = False)"
   ]
  },
  {
   "cell_type": "code",
   "execution_count": 41,
   "metadata": {},
   "outputs": [
    {
     "data": {
      "text/html": [
       "<div>\n",
       "<style scoped>\n",
       "    .dataframe tbody tr th:only-of-type {\n",
       "        vertical-align: middle;\n",
       "    }\n",
       "\n",
       "    .dataframe tbody tr th {\n",
       "        vertical-align: top;\n",
       "    }\n",
       "\n",
       "    .dataframe thead th {\n",
       "        text-align: right;\n",
       "    }\n",
       "</style>\n",
       "<table border=\"1\" class=\"dataframe\">\n",
       "  <thead>\n",
       "    <tr style=\"text-align: right;\">\n",
       "      <th></th>\n",
       "      <th>Texts</th>\n",
       "    </tr>\n",
       "  </thead>\n",
       "  <tbody>\n",
       "    <tr>\n",
       "      <th>0</th>\n",
       "      <td>شعار \"الجميع من أجل الصحة، والصحة من أجل الجمي...</td>\n",
       "    </tr>\n",
       "    <tr>\n",
       "      <th>1</th>\n",
       "      <td>تقرير جديد يشير إلى زيادة كبرى في عدوى الأمراض...</td>\n",
       "    </tr>\n",
       "    <tr>\n",
       "      <th>2</th>\n",
       "      <td>اعتماد أكبر عدد من الوكالات التنظيمية للمنتجات...</td>\n",
       "    </tr>\n",
       "    <tr>\n",
       "      <th>3</th>\n",
       "      <td>إحراز تقدم غير مسبوق في مفاوضات الدول الأعضاء ...</td>\n",
       "    </tr>\n",
       "    <tr>\n",
       "      <th>4</th>\n",
       "      <td>المنظّمة تحدّث قائمة أنواع البكتيريا المقاومة ...</td>\n",
       "    </tr>\n",
       "    <tr>\n",
       "      <th>...</th>\n",
       "      <td>...</td>\n",
       "    </tr>\n",
       "    <tr>\n",
       "      <th>1193</th>\n",
       "      <td>تعزيز التعاون في مجال الصحة محور مباحثات بين و...</td>\n",
       "    </tr>\n",
       "    <tr>\n",
       "      <th>1194</th>\n",
       "      <td>الحملة الوطنية للتشجيع على نمط العيش السليم \"ا...</td>\n",
       "    </tr>\n",
       "    <tr>\n",
       "      <th>1195</th>\n",
       "      <td>المصادقة على أول قانون يتعلق بمزاولة مهن التمريض</td>\n",
       "    </tr>\n",
       "    <tr>\n",
       "      <th>1196</th>\n",
       "      <td>تخليد اليوم العالمي لمحاربة داء السل</td>\n",
       "    </tr>\n",
       "    <tr>\n",
       "      <th>1197</th>\n",
       "      <td>الاحتفال باليوم العالمي للمهاجر</td>\n",
       "    </tr>\n",
       "  </tbody>\n",
       "</table>\n",
       "<p>1198 rows × 1 columns</p>\n",
       "</div>"
      ],
      "text/plain": [
       "                                                  Texts\n",
       "0     شعار \"الجميع من أجل الصحة، والصحة من أجل الجمي...\n",
       "1     تقرير جديد يشير إلى زيادة كبرى في عدوى الأمراض...\n",
       "2     اعتماد أكبر عدد من الوكالات التنظيمية للمنتجات...\n",
       "3     إحراز تقدم غير مسبوق في مفاوضات الدول الأعضاء ...\n",
       "4     المنظّمة تحدّث قائمة أنواع البكتيريا المقاومة ...\n",
       "...                                                 ...\n",
       "1193  تعزيز التعاون في مجال الصحة محور مباحثات بين و...\n",
       "1194  الحملة الوطنية للتشجيع على نمط العيش السليم \"ا...\n",
       "1195   المصادقة على أول قانون يتعلق بمزاولة مهن التمريض\n",
       "1196               تخليد اليوم العالمي لمحاربة داء السل\n",
       "1197                    الاحتفال باليوم العالمي للمهاجر\n",
       "\n",
       "[1198 rows x 1 columns]"
      ]
     },
     "execution_count": 41,
     "metadata": {},
     "output_type": "execute_result"
    }
   ],
   "source": [
    "data = pd.read_csv('scraping.csv')\n",
    "data"
   ]
  },
  {
   "cell_type": "code",
   "execution_count": 44,
   "metadata": {},
   "outputs": [],
   "source": [
    "import pandas as pd\n",
    "from sklearn.feature_extraction.text import CountVectorizer\n",
    "from sklearn.decomposition import LatentDirichletAllocation\n",
    "import numpy as np\n",
    "import nltk\n",
    "from nltk.corpus import stopwords"
   ]
  },
  {
   "cell_type": "code",
   "execution_count": 45,
   "metadata": {},
   "outputs": [],
   "source": [
    "arabic_stop_words = list(stopwords.words('arabic'))\n",
    "\n",
    "def preprocess_texts(texts):\n",
    "    return texts.str.lower().str.replace(r'\\W', ' ', regex=True)"
   ]
  },
  {
   "cell_type": "code",
   "execution_count": 46,
   "metadata": {},
   "outputs": [],
   "source": [
    "data['Texts'] = preprocess_texts(data['Texts'])\n",
    "vectorizer = CountVectorizer(stop_words = arabic_stop_words)\n",
    "dtm = vectorizer.fit_transform(data['Texts'])"
   ]
  },
  {
   "cell_type": "code",
   "execution_count": 47,
   "metadata": {},
   "outputs": [],
   "source": [
    "n_topics = 5  \n",
    "lda = LatentDirichletAllocation(n_components=n_topics, random_state=0)\n",
    "lda.fit(dtm)\n",
    "\n",
    "topic_distribution = lda.transform(dtm)"
   ]
  },
  {
   "cell_type": "code",
   "execution_count": 48,
   "metadata": {},
   "outputs": [
    {
     "name": "stdout",
     "output_type": "stream",
     "text": [
      "Topic #0:\n",
      "بشأن الصحة العالمية 19 بيان\n",
      "Topic #1:\n",
      "الصحة العالمية بشأن منظمة رقم\n",
      "Topic #2:\n",
      "الصحة العالمية منظمة بشأن العالمي\n",
      "Topic #3:\n",
      "الصحة العالمية العالمي 19 كوفيد\n",
      "Topic #4:\n",
      "الصحة العالمية منظمة 19 كوفيد\n",
      "\n"
     ]
    }
   ],
   "source": [
    "def print_top_words(model, feature_names, n_top_words):\n",
    "    for topic_idx, topic in enumerate(model.components_):\n",
    "        print(f\"Topic #{topic_idx}:\")\n",
    "        print(\" \".join([feature_names[i] for i in topic.argsort()[:-n_top_words - 1:-1]]))\n",
    "    print()\n",
    "\n",
    "print_top_words(lda, vectorizer.get_feature_names_out(), 5)"
   ]
  },
  {
   "cell_type": "code",
   "execution_count": 49,
   "metadata": {},
   "outputs": [],
   "source": [
    "health_topic_index = 4\n",
    "\n",
    "def calculate_scores(topic_distribution, topic_index):\n",
    "    scores = topic_distribution[:, topic_index] * 10\n",
    "    return scores\n",
    "\n",
    "data['Scores'] = calculate_scores(topic_distribution, health_topic_index)"
   ]
  },
  {
   "cell_type": "code",
   "execution_count": 71,
   "metadata": {},
   "outputs": [],
   "source": [
    "threshold = 0.1  \n",
    "data = data[data['Scores'] > threshold]"
   ]
  },
  {
   "cell_type": "code",
   "execution_count": 3,
   "metadata": {},
   "outputs": [
    {
     "data": {
      "text/html": [
       "<div>\n",
       "<style scoped>\n",
       "    .dataframe tbody tr th:only-of-type {\n",
       "        vertical-align: middle;\n",
       "    }\n",
       "\n",
       "    .dataframe tbody tr th {\n",
       "        vertical-align: top;\n",
       "    }\n",
       "\n",
       "    .dataframe thead th {\n",
       "        text-align: right;\n",
       "    }\n",
       "</style>\n",
       "<table border=\"1\" class=\"dataframe\">\n",
       "  <thead>\n",
       "    <tr style=\"text-align: right;\">\n",
       "      <th></th>\n",
       "      <th>Texts</th>\n",
       "      <th>Scores</th>\n",
       "    </tr>\n",
       "  </thead>\n",
       "  <tbody>\n",
       "    <tr>\n",
       "      <th>0</th>\n",
       "      <td>شعار  الجميع من أجل الصحة  والصحة من أجل الجمي...</td>\n",
       "      <td>0.157534</td>\n",
       "    </tr>\n",
       "    <tr>\n",
       "      <th>1</th>\n",
       "      <td>اعتماد أكبر عدد من الوكالات التنظيمية للمنتجات...</td>\n",
       "      <td>9.453587</td>\n",
       "    </tr>\n",
       "    <tr>\n",
       "      <th>2</th>\n",
       "      <td>إحراز تقدم غير مسبوق في مفاوضات الدول الأعضاء ...</td>\n",
       "      <td>0.168359</td>\n",
       "    </tr>\n",
       "    <tr>\n",
       "      <th>3</th>\n",
       "      <td>المنظ مة تحد ث قائمة أنواع البكتيريا المقاومة ...</td>\n",
       "      <td>0.156182</td>\n",
       "    </tr>\n",
       "    <tr>\n",
       "      <th>4</th>\n",
       "      <td>المنظ مة تختبر مسبقا  صلاحية لقاح جديد لحم ى ا...</td>\n",
       "      <td>0.204761</td>\n",
       "    </tr>\n",
       "    <tr>\n",
       "      <th>...</th>\n",
       "      <td>...</td>\n",
       "      <td>...</td>\n",
       "    </tr>\n",
       "    <tr>\n",
       "      <th>1125</th>\n",
       "      <td>تعزيز التعاون في مجال الصحة محور مباحثات بين و...</td>\n",
       "      <td>9.380450</td>\n",
       "    </tr>\n",
       "    <tr>\n",
       "      <th>1126</th>\n",
       "      <td>الحملة الوطنية للتشجيع على نمط العيش السليم  ا...</td>\n",
       "      <td>0.201207</td>\n",
       "    </tr>\n",
       "    <tr>\n",
       "      <th>1127</th>\n",
       "      <td>المصادقة على أول قانون يتعلق بمزاولة مهن التمريض</td>\n",
       "      <td>0.289254</td>\n",
       "    </tr>\n",
       "    <tr>\n",
       "      <th>1128</th>\n",
       "      <td>تخليد اليوم العالمي لمحاربة داء السل</td>\n",
       "      <td>0.286693</td>\n",
       "    </tr>\n",
       "    <tr>\n",
       "      <th>1129</th>\n",
       "      <td>الاحتفال باليوم العالمي للمهاجر</td>\n",
       "      <td>0.401034</td>\n",
       "    </tr>\n",
       "  </tbody>\n",
       "</table>\n",
       "<p>1130 rows × 2 columns</p>\n",
       "</div>"
      ],
      "text/plain": [
       "                                                  Texts    Scores\n",
       "0     شعار  الجميع من أجل الصحة  والصحة من أجل الجمي...  0.157534\n",
       "1     اعتماد أكبر عدد من الوكالات التنظيمية للمنتجات...  9.453587\n",
       "2     إحراز تقدم غير مسبوق في مفاوضات الدول الأعضاء ...  0.168359\n",
       "3     المنظ مة تحد ث قائمة أنواع البكتيريا المقاومة ...  0.156182\n",
       "4     المنظ مة تختبر مسبقا  صلاحية لقاح جديد لحم ى ا...  0.204761\n",
       "...                                                 ...       ...\n",
       "1125  تعزيز التعاون في مجال الصحة محور مباحثات بين و...  9.380450\n",
       "1126  الحملة الوطنية للتشجيع على نمط العيش السليم  ا...  0.201207\n",
       "1127   المصادقة على أول قانون يتعلق بمزاولة مهن التمريض  0.289254\n",
       "1128               تخليد اليوم العالمي لمحاربة داء السل  0.286693\n",
       "1129                    الاحتفال باليوم العالمي للمهاجر  0.401034\n",
       "\n",
       "[1130 rows x 2 columns]"
      ]
     },
     "execution_count": 3,
     "metadata": {},
     "output_type": "execute_result"
    }
   ],
   "source": [
    "data = pd.read_csv(\"scrapingScore.csv\")\n",
    "data"
   ]
  },
  {
   "cell_type": "code",
   "execution_count": 4,
   "metadata": {},
   "outputs": [
    {
     "name": "stdout",
     "output_type": "stream",
     "text": [
      "  0%|          | 0.00/241M [00:00<?, ?iB/s]"
     ]
    }
   ],
   "source": [
    "import pandas as pd\n",
    "from farasa.stemmer import FarasaStemmer\n",
    "import re\n",
    "\n",
    "farasa_stemmer = FarasaStemmer()\n",
    "\n",
    "def preprocess_text(text):\n",
    "    text = re.sub(r'[^a-zA-Z0-9]', ' ', text)\n",
    "    text = text.lower()\n",
    "    tokens = text.split()\n",
    "    tokens = [token for token in tokens if token not in arabic_stop_words]\n",
    "    stemmed_tokens = farasa_stemmer.stem(tokens)\n",
    "    return stemmed_tokens\n",
    "\n",
    "example_text = \"هذا نص تجريبي لاختبار تطبيق أنابيك، لمعالجة وتحليل النصوص العربية.\"\n",
    "\n",
    "preprocessed_text = preprocess_text(example_text)\n",
    "print(preprocessed_text)\n"
   ]
  }
 ],
 "metadata": {
  "kernelspec": {
   "display_name": "Python 3",
   "language": "python",
   "name": "python3"
  },
  "language_info": {
   "codemirror_mode": {
    "name": "ipython",
    "version": 3
   },
   "file_extension": ".py",
   "mimetype": "text/x-python",
   "name": "python",
   "nbconvert_exporter": "python",
   "pygments_lexer": "ipython3",
   "version": "3.11.2"
  }
 },
 "nbformat": 4,
 "nbformat_minor": 2
}
